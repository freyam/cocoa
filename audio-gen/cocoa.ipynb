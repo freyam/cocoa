{
 "cells": [
  {
   "cell_type": "code",
   "execution_count": null,
   "metadata": {},
   "outputs": [],
   "source": [
    "from midiSynth.synth import MidiSynth\n",
    "# !pip install midiSynth\n",
    "midi_synth = MidiSynth()\n"
   ]
  },
  {
   "cell_type": "code",
   "execution_count": null,
   "metadata": {},
   "outputs": [],
   "source": [
    "import os\n",
    "import pickle\n",
    "import torch\n",
    "from utils import write_midi\n",
    "from models import TransformerModel\n"
   ]
  },
  {
   "cell_type": "code",
   "execution_count": null,
   "metadata": {},
   "outputs": [],
   "source": [
    "!gdown - -id 17dKUf33ZsDbHC5Z6rkQclge3ppDTVCMP\n",
    "!unzip co-representation.zip - d ../../dataset/\n",
    "!rm co-representation.zip\n"
   ]
  },
  {
   "cell_type": "code",
   "execution_count": null,
   "metadata": {},
   "outputs": [],
   "source": [
    "path_dictionary = '../../dataset/co-representation/dictionary.pkl'\n",
    "assert os.path.exists(path_dictionary)\n"
   ]
  },
  {
   "cell_type": "code",
   "execution_count": null,
   "metadata": {},
   "outputs": [],
   "source": [
    "dictionary = pickle.load(open(path_dictionary, 'rb'))\n",
    "event2word, word2event = dictionary\n"
   ]
  },
  {
   "cell_type": "code",
   "execution_count": null,
   "metadata": {},
   "outputs": [],
   "source": [
    "n_class = []\n",
    "for key in event2word.keys():\n",
    "    n_class.append(len(dictionary[0][key]))\n",
    "n_token = len(n_class)\n"
   ]
  },
  {
   "cell_type": "code",
   "execution_count": null,
   "metadata": {},
   "outputs": [],
   "source": [
    "!gdown - -id 19Seq18b2JNzOamEQMG1uarKjj27HJkHu - -output pretrained_transformer.zip\n",
    "!unzip pretrained_transformer.zip - d exp/\n",
    "!rm exp/pretrained_transformer.zip\n",
    "os.listdir('exp/pretrained_transformer')\n"
   ]
  },
  {
   "cell_type": "code",
   "execution_count": null,
   "metadata": {},
   "outputs": [],
   "source": [
    "path_saved_ckpt = 'exp/pretrained_transformer/loss_25_params.pt'\n",
    "assert os.path.exists(path_saved_ckpt)\n"
   ]
  },
  {
   "cell_type": "code",
   "execution_count": null,
   "metadata": {},
   "outputs": [],
   "source": [
    "net = TransformerModel(n_class, is_training=False)\n",
    "net.cuda()\n",
    "net.eval()\n",
    "\n",
    "net.load_state_dict(torch.load(path_saved_ckpt))\n"
   ]
  },
  {
   "cell_type": "code",
   "execution_count": null,
   "metadata": {},
   "outputs": [],
   "source": [
    "res, _ = net.inference_from_scratch(dictionary, 4, n_token=8, display=False)\n",
    "write_midi(res, 'test' + '.mid', word2event)\n",
    "\n",
    "midi_synth.play_midi('test' + '.mid')\n",
    "midi_synth.midi2audio('test' + '.mid', 'test' + '.mp3')\n"
   ]
  },
  {
   "attachments": {},
   "cell_type": "markdown",
   "metadata": {},
   "source": [
    "# IT WORKS YAYYYYYYYYYYYYYYYYYYY\n"
   ]
  }
 ],
 "metadata": {
  "kernelspec": {
   "display_name": "Python 3",
   "language": "python",
   "name": "python3"
  },
  "language_info": {
   "codemirror_mode": {
    "name": "ipython",
    "version": 3
   },
   "file_extension": ".py",
   "mimetype": "text/x-python",
   "name": "python",
   "nbconvert_exporter": "python",
   "pygments_lexer": "ipython3",
   "version": "3.10.6"
  }
 },
 "nbformat": 4,
 "nbformat_minor": 4
}
